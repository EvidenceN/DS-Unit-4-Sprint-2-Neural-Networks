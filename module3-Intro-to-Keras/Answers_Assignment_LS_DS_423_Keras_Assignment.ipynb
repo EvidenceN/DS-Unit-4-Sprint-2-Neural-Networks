{
 "cells": [
  {
   "cell_type": "markdown",
   "metadata": {
    "colab_type": "text",
    "id": "pBQsZEJmubLs"
   },
   "source": [
    "<img align=\"left\" src=\"https://lever-client-logos.s3.amazonaws.com/864372b1-534c-480e-acd5-9711f850815c-1524247202159.png\" width=200>\n",
    "<br></br>\n",
    "\n",
    "# Neural Network Framework (Keras)\n",
    "\n",
    "## *Data Science Unit 4 Sprint 2 Assignment 3*\n",
    "\n",
    "## Use the Keras Library to build a Multi-Layer Perceptron Model on the Boston Housing dataset\n",
    "\n",
    "- The Boston Housing dataset comes with the Keras library so use Keras to import it into your notebook. \n",
    "- Normalize the data (all features should have roughly the same scale)\n",
    "- Import the type of model and layers that you will need from Keras.\n",
    "- Instantiate a model object and use `model.add()` to add layers to your model\n",
    "- Since this is a regression model you will have a single output node in the final layer.\n",
    "- Use activation functions that are appropriate for this task\n",
    "- Compile your model\n",
    "- Fit your model and report its accuracy in terms of Mean Squared Error\n",
    "- Use the history object that is returned from model.fit to make graphs of the model's loss or train/validation accuracies by epoch. \n",
    "- Run this same data through a linear regression model. Which achieves higher accuracy?\n",
    "- Do a little bit of feature engineering and see how that affects your neural network model. (you will need to change your model to accept more inputs)\n",
    "- After feature engineering, which model sees a greater accuracy boost due to the new features?"
   ]
  },
  {
   "cell_type": "code",
   "execution_count": 1,
   "metadata": {},
   "outputs": [],
   "source": [
    "%%capture\n",
    "import tensorflow as tf \n",
    "from tensorflow import keras\n",
    "import matplotlib.pyplot as plt"
   ]
  },
  {
   "cell_type": "markdown",
   "metadata": {},
   "source": [
    "Original dataset.\n",
    "http://lib.stat.cmu.edu/datasets/boston\n",
    "\n",
    "Feature names in order \n",
    " Variables in order:\n",
    " CRIM     per capita crime rate by town\n",
    " ZN       proportion of residential land zoned for lots over 25,000 sq.ft.\n",
    " INDUS    proportion of non-retail business acres per town\n",
    " CHAS     Charles River dummy variable (= 1 if tract bounds river; 0 otherwise)\n",
    " NOX      nitric oxides concentration (parts per 10 million)\n",
    " RM       average number of rooms per dwelling\n",
    " AGE      proportion of owner-occupied units built prior to 1940\n",
    " DIS      weighted distances to five Boston employment centres\n",
    " RAD      index of accessibility to radial highways\n",
    " TAX      full-value property-tax rate per $10,000\n",
    " PTRATIO  pupil-teacher ratio by town\n",
    " B        1000(Bk - 0.63)^2 where Bk is the proportion of blacks by town\n",
    " LSTAT    % lower status of the population\n",
    " MEDV     Median value of owner-occupied homes in $1000's"
   ]
  },
  {
   "cell_type": "code",
   "execution_count": 2,
   "metadata": {},
   "outputs": [],
   "source": [
    "# getting the dataset. \n",
    "#from tensorflow.keras.datasets import Boston\n",
    "# documentation on boston housing dataset. \n",
    "# https://www.tensorflow.org/api_docs/python/tf/keras/datasets/boston_housing/load_data\n",
    "boston = tf.keras.datasets.boston_housing"
   ]
  },
  {
   "cell_type": "code",
   "execution_count": 11,
   "metadata": {},
   "outputs": [],
   "source": [
    "# loading the dataset. the dataset is a tuple of \n",
    "# Numpy arrays: (x_train, y_train), (x_test, y_test)\n",
    "\n",
    "(x_train, y_train), (x_test, y_test) = boston"
   ]
  },
  {
   "cell_type": "code",
   "execution_count": 14,
   "metadata": {},
   "outputs": [
    {
     "data": {
      "text/plain": [
       "array([[1.23247e+00, 0.00000e+00, 8.14000e+00, 0.00000e+00, 5.38000e-01,\n",
       "        6.14200e+00, 9.17000e+01, 3.97690e+00, 4.00000e+00, 3.07000e+02,\n",
       "        2.10000e+01, 3.96900e+02, 1.87200e+01],\n",
       "       [2.17700e-02, 8.25000e+01, 2.03000e+00, 0.00000e+00, 4.15000e-01,\n",
       "        7.61000e+00, 1.57000e+01, 6.27000e+00, 2.00000e+00, 3.48000e+02,\n",
       "        1.47000e+01, 3.95380e+02, 3.11000e+00]])"
      ]
     },
     "execution_count": 14,
     "metadata": {},
     "output_type": "execute_result"
    }
   ],
   "source": [
    "x_train[:2]"
   ]
  },
  {
   "cell_type": "code",
   "execution_count": 13,
   "metadata": {},
   "outputs": [
    {
     "data": {
      "text/plain": [
       "array([15.2, 42.3])"
      ]
     },
     "execution_count": 13,
     "metadata": {},
     "output_type": "execute_result"
    }
   ],
   "source": [
    "y_train[:2]"
   ]
  },
  {
   "cell_type": "code",
   "execution_count": 15,
   "metadata": {},
   "outputs": [
    {
     "data": {
      "text/plain": [
       "(404, 13)"
      ]
     },
     "execution_count": 15,
     "metadata": {},
     "output_type": "execute_result"
    }
   ],
   "source": [
    "x_train.shape"
   ]
  },
  {
   "cell_type": "code",
   "execution_count": 16,
   "metadata": {},
   "outputs": [
    {
     "data": {
      "text/plain": [
       "(102, 13)"
      ]
     },
     "execution_count": 16,
     "metadata": {},
     "output_type": "execute_result"
    }
   ],
   "source": [
    "x_test.shape"
   ]
  },
  {
   "cell_type": "code",
   "execution_count": 18,
   "metadata": {},
   "outputs": [
    {
     "data": {
      "text/plain": [
       "(404,)"
      ]
     },
     "execution_count": 18,
     "metadata": {},
     "output_type": "execute_result"
    }
   ],
   "source": [
    "y_train.shape"
   ]
  },
  {
   "cell_type": "code",
   "execution_count": 21,
   "metadata": {},
   "outputs": [
    {
     "data": {
      "text/plain": [
       "array([[2.41189924e-03, 0.00000000e+00, 1.59296858e-02, 0.00000000e+00,\n",
       "        1.05284655e-03, 1.20196720e-02, 1.79453585e-01, 7.78264954e-03,\n",
       "        7.82785541e-03, 6.00787902e-01, 4.10962409e-02, 7.76718953e-01,\n",
       "        3.66343633e-02],\n",
       "       [4.07923050e-05, 1.54587284e-01, 3.80378407e-03, 0.00000000e+00,\n",
       "        7.77620881e-04, 1.42595058e-02, 2.94184285e-02, 1.17486336e-02,\n",
       "        3.74757051e-03, 6.52077269e-01, 2.75446433e-02, 7.40857215e-01,\n",
       "        5.82747215e-03]])"
      ]
     },
     "execution_count": 21,
     "metadata": {},
     "output_type": "execute_result"
    }
   ],
   "source": [
    "# normalizing x_train data using tensorflow\n",
    "\n",
    "x_train = tf.keras.utils.normalize(x_train)\n",
    "x_train[:2]"
   ]
  },
  {
   "cell_type": "code",
   "execution_count": 22,
   "metadata": {},
   "outputs": [
    {
     "data": {
      "text/plain": [
       "array([[2.67567471e-02, 0.00000000e+00, 2.67795319e-02, 0.00000000e+00,\n",
       "        1.00460233e-03, 9.51930986e-03, 1.47953215e-01, 2.71449764e-03,\n",
       "        3.55087716e-02, 9.85368413e-01, 2.98865495e-02, 4.03172511e-02,\n",
       "        4.29804090e-02],\n",
       "       [2.07806276e-04, 0.00000000e+00, 1.68719346e-02, 0.00000000e+00,\n",
       "        9.21972852e-04, 9.96640855e-03, 1.56583689e-01, 3.96667442e-03,\n",
       "        1.01130477e-02, 7.28139437e-01, 3.00020416e-02, 6.65691367e-01,\n",
       "        2.73220840e-02]])"
      ]
     },
     "execution_count": 22,
     "metadata": {},
     "output_type": "execute_result"
    }
   ],
   "source": [
    "# normalizing x_test data using tensorflow\n",
    "\n",
    "x_test = tf.keras.utils.normalize(x_test)\n",
    "x_test[:2]"
   ]
  },
  {
   "cell_type": "code",
   "execution_count": 84,
   "metadata": {},
   "outputs": [],
   "source": [
    "# designing the model \n",
    "# first layer = input layer = the number is determined by how many features\n",
    "# last layer = output layer = number is determined by how many outputs\n",
    "model = tf.keras.models.Sequential([keras.layers.Dense(13, activation='linear'),\n",
    "                                   keras.layers.Dense(1, activation='linear')])"
   ]
  },
  {
   "cell_type": "code",
   "execution_count": 90,
   "metadata": {},
   "outputs": [],
   "source": [
    "# compiling the model. \n",
    "\n",
    "model.compile(optimizer = 'SGD',\n",
    "             loss = 'mse',\n",
    "             metrics = ['mean_squared_error'])"
   ]
  },
  {
   "cell_type": "code",
   "execution_count": 139,
   "metadata": {},
   "outputs": [
    {
     "data": {
      "text/plain": [
       "<tensorflow.python.keras.callbacks.History at 0x27c15ec10b8>"
      ]
     },
     "execution_count": 139,
     "metadata": {},
     "output_type": "execute_result"
    }
   ],
   "source": [
    "# fitting the model. \n",
    "\n",
    "model.fit(x_train, \n",
    "          y_train, \n",
    "          epochs = 1000,\n",
    "          validation_data = (x_test, y_test),\n",
    "          verbose=0)"
   ]
  },
  {
   "cell_type": "code",
   "execution_count": null,
   "metadata": {},
   "outputs": [],
   "source": [
    "# EXPLORATION OF THE HISTORY OBJECT. \n",
    "\n",
    "\"\"\"\n",
    "model.history.history.items()\n",
    "model.history.history.keys()\n",
    "list(model.history.history.items())\n",
    "list(model.history.history.items())[1]\n",
    "list(model.history.history.items())[1][1]\n",
    "list(model.history.history.values())\n",
    "list(model.history.history.values())[0]\n",
    "list(model.history.history.items())[2][1]\n",
    "\"\"\""
   ]
  },
  {
   "cell_type": "code",
   "execution_count": 141,
   "metadata": {},
   "outputs": [
    {
     "data": {
      "text/plain": [
       "dict_keys(['loss', 'mean_squared_error', 'val_loss', 'val_mean_squared_error'])"
      ]
     },
     "execution_count": 141,
     "metadata": {},
     "output_type": "execute_result"
    }
   ],
   "source": [
    "# has to be done immediately after .fit is run, it not, this will come\n",
    "# up empty. because .history is an object .fit method returns. \n",
    "model.history.history.keys()"
   ]
  },
  {
   "cell_type": "code",
   "execution_count": 146,
   "metadata": {},
   "outputs": [],
   "source": [
    "# train and loss mean squared error\n",
    "train_mse = list(model.history.history.items())[0][1]\n",
    "test_mse = list(model.history.history.items())[2][1]"
   ]
  },
  {
   "cell_type": "code",
   "execution_count": null,
   "metadata": {},
   "outputs": [],
   "source": [
    "# another method for retreiving the same information above. \n",
    "\n",
    "\"\"\"\n",
    "mse=model.history.history['mean_squared_error']\n",
    "val_mse=model.history.history['val_mean_squared_error']\n",
    "loss=model.history.history['loss']\n",
    "val_loss=model.history.history['val_loss']\n",
    "\"\"\""
   ]
  },
  {
   "cell_type": "code",
   "execution_count": 153,
   "metadata": {},
   "outputs": [
    {
     "data": {
      "text/plain": [
       "30.279008865356445"
      ]
     },
     "execution_count": 153,
     "metadata": {},
     "output_type": "execute_result"
    }
   ],
   "source": [
    "min(test_mse)"
   ]
  },
  {
   "cell_type": "code",
   "execution_count": 168,
   "metadata": {},
   "outputs": [
    {
     "data": {
      "image/png": "[encoded data removed]",
      "text/plain": [
       "<Figure size 432x288 with 1 Axes>"
      ]
     },
     "metadata": {
      "needs_background": "light"
     },
     "output_type": "display_data"
    }
   ],
   "source": [
    "%matplotlib inline\n",
    "epochs = range(len(train_mse)) # Get number of epochs\n",
    "\n",
    "#------------------------------------------------\n",
    "# Plot training and validation mean squared error per epoch\n",
    "#------------------------------------------------\n",
    "\n",
    "plt.plot(epochs, train_mse, 'r')\n",
    "plt.plot(epochs, test_mse, 'b')\n",
    "plt.title('Training and validation Mean Squared Error')\n",
    "plt.legend(labels=(\"Training Mean Squared Error\", \n",
    "                   \"Validation Mean Squared Error\"))\n",
    "plt.show()\n",
    "\n",
    "# if the epochs are less than 1000, then the graph will look better. "
   ]
  },
  {
   "cell_type": "code",
   "execution_count": null,
   "metadata": {},
   "outputs": [],
   "source": [
    "\"\"\"\n",
    "Not relevant to this project. Loss and Accuracy measurement are both\n",
    "Mean absolute error. \n",
    "\n",
    "#------------------------------------------------\n",
    "# Plot training and validation loss per epoch\n",
    "#------------------------------------------------\n",
    "plt.plot(epochs, loss, 'r', \"Training Loss\")\n",
    "plt.plot(epochs, val_loss, 'b', \"Validation Loss\")\n",
    "plt.title('Training and validation loss')\n",
    "\"\"\""
   ]
  },
  {
   "cell_type": "code",
   "execution_count": 135,
   "metadata": {},
   "outputs": [
    {
     "name": "stdout",
     "output_type": "stream",
     "text": [
      "13/13 [==============================] - 0s 769us/step - loss: 42.1887 - mean_squared_error: 42.1887\n",
      "loss: 42.188743591308594\n"
     ]
    }
   ],
   "source": [
    "# since i didn't print the epochs, this is the mse from training data\n",
    "train_scores = model.evaluate(x_train, y_train)\n",
    "print(f\"{model.metrics_names[0]}: {train_scores[0]}\")"
   ]
  },
  {
   "cell_type": "code",
   "execution_count": 136,
   "metadata": {},
   "outputs": [
    {
     "name": "stdout",
     "output_type": "stream",
     "text": [
      "4/4 [==============================] - 0s 1ms/step - loss: 40.0018 - mean_squared_error: 40.0018\n",
      "loss: 40.001834869384766\n"
     ]
    }
   ],
   "source": [
    "# to get mean squared error on the test data\n",
    "\n",
    "scores = model.evaluate(x_test, y_test)\n",
    "print(f\"{model.metrics_names[0]}: {scores[0]}\")"
   ]
  },
  {
   "cell_type": "code",
   "execution_count": 94,
   "metadata": {},
   "outputs": [
    {
     "name": "stdout",
     "output_type": "stream",
     "text": [
      "[[10.901262]\n",
      " [22.643673]\n",
      " [26.89332 ]\n",
      " [28.736502]]\n"
     ]
    }
   ],
   "source": [
    "# making predictions using the model\n",
    "\n",
    "model_prediction = model.predict(x_test)\n",
    "\n",
    "print(model_prediction[:4])"
   ]
  },
  {
   "cell_type": "code",
   "execution_count": 95,
   "metadata": {},
   "outputs": [
    {
     "data": {
      "text/plain": [
       "[7.2, 18.8, 19.0, 27.0]"
      ]
     },
     "execution_count": 95,
     "metadata": {},
     "output_type": "execute_result"
    }
   ],
   "source": [
    "# verifying the classification from above\n",
    "list(y_test[:4])"
   ]
  },
  {
   "cell_type": "code",
   "execution_count": 96,
   "metadata": {},
   "outputs": [
    {
     "data": {
      "text/plain": [
       "<tf.Tensor: shape=(102,), dtype=float32, numpy=\n",
       "array([231.52727 ,  83.432884,  97.797226, 115.25764 , 112.45231 ,\n",
       "        85.74443 , 139.48701 , 118.70064 ,  83.670235,  83.72137 ,\n",
       "       101.821556,  87.028984,  92.675316, 208.89474 ,  89.106964,\n",
       "        88.57798 ,  83.91567 ,  83.31818 ,  84.72003 ,  84.38611 ,\n",
       "       132.16223 , 122.28406 ,  87.53092 ,  88.185585, 114.96811 ,\n",
       "        83.30331 , 113.435875, 320.9442  , 155.30132 ,  85.35709 ,\n",
       "        84.132614, 121.12966 , 185.9988  ,  83.26198 ,  91.757835,\n",
       "       199.47061 , 113.68161 ,  94.84169 ,  86.10618 , 192.02615 ,\n",
       "       137.62193 , 111.93422 ,  87.50894 , 114.17143 , 253.57863 ,\n",
       "       101.41541 , 174.88602 ,  84.13083 ,  85.95841 ,  88.64413 ,\n",
       "       271.48743 ,  87.255714, 120.90973 ,  89.29225 , 138.97499 ,\n",
       "       129.10402 ,  95.608574, 185.48738 , 209.54285 , 121.33796 ,\n",
       "        83.24756 ,  85.32262 , 118.1174  ,  83.3013  , 109.67423 ,\n",
       "       153.60854 ,  96.72645 , 138.93808 , 180.67535 , 146.68962 ,\n",
       "        83.79758 , 104.736626,  83.592445, 128.58089 ,  96.580315,\n",
       "        92.57816 ,  86.07881 ,  85.505745, 197.80414 , 166.65442 ,\n",
       "        89.52058 , 220.9686  ,  87.157196,  89.38642 ,  90.53815 ,\n",
       "        83.27821 ,  84.062126,  83.49553 ,  95.65444 ,  90.492905,\n",
       "        84.46894 ,  94.24884 , 101.211876, 111.65676 , 192.62712 ,\n",
       "        83.493195, 226.11725 , 102.82524 ,  83.26668 , 174.30537 ,\n",
       "       126.643074,  83.383194], dtype=float32)>"
      ]
     },
     "execution_count": 96,
     "metadata": {},
     "output_type": "execute_result"
    }
   ],
   "source": [
    "# MANUALLY calculating MSE for my own sanity\n",
    "loss = tf.keras.losses.mean_squared_error(y_test, model_prediction)\n",
    "loss\n",
    "# literally didn't help"
   ]
  },
  {
   "cell_type": "code",
   "execution_count": 64,
   "metadata": {},
   "outputs": [],
   "source": [
    "# using linear regression to fit the same model \n",
    "\n",
    "import sklearn"
   ]
  },
  {
   "cell_type": "code",
   "execution_count": 65,
   "metadata": {},
   "outputs": [],
   "source": [
    "from sklearn.linear_model import LinearRegression\n",
    "\n",
    "lr = LinearRegression()"
   ]
  },
  {
   "cell_type": "code",
   "execution_count": 66,
   "metadata": {},
   "outputs": [
    {
     "data": {
      "text/plain": [
       "LinearRegression()"
      ]
     },
     "execution_count": 66,
     "metadata": {},
     "output_type": "execute_result"
    }
   ],
   "source": [
    "# fit linear regression model. \n",
    "\n",
    "lr.fit(x_train, y_train)"
   ]
  },
  {
   "cell_type": "code",
   "execution_count": 74,
   "metadata": {},
   "outputs": [
    {
     "data": {
      "text/plain": [
       "[11.0, 20.1, 20.7, 31.8]"
      ]
     },
     "execution_count": 74,
     "metadata": {},
     "output_type": "execute_result"
    }
   ],
   "source": [
    "# use lr for prediction. \n",
    "\n",
    "prediction = lr.predict(x_test)\n",
    "\n",
    "[round(i, 1) for i in list(prediction[:4])]"
   ]
  },
  {
   "cell_type": "code",
   "execution_count": 68,
   "metadata": {},
   "outputs": [
    {
     "data": {
      "text/plain": [
       "[7.2, 18.8, 19.0, 27.0]"
      ]
     },
     "execution_count": 68,
     "metadata": {},
     "output_type": "execute_result"
    }
   ],
   "source": [
    "list(y_test[:4])"
   ]
  },
  {
   "cell_type": "code",
   "execution_count": 75,
   "metadata": {},
   "outputs": [
    {
     "data": {
      "text/plain": [
       "18.165510493496463"
      ]
     },
     "execution_count": 75,
     "metadata": {},
     "output_type": "execute_result"
    }
   ],
   "source": [
    "# getting mean squared error score \n",
    "\n",
    "from sklearn.metrics import mean_squared_error\n",
    "\n",
    "mse = mean_squared_error(prediction, y_test)\n",
    "mse"
   ]
  },
  {
   "cell_type": "code",
   "execution_count": null,
   "metadata": {},
   "outputs": [],
   "source": [
    "# which method has the lower mean squared error score?\n",
    "\n"
   ]
  },
  {
   "cell_type": "markdown",
   "metadata": {
    "colab_type": "text",
    "id": "SfcFnOONyuNm"
   },
   "source": [
    "## Use the Keras Library to build an image recognition network using the Fashion-MNIST dataset (also comes with keras)\n",
    "\n",
    "- Load and preprocess the image data similar to how we preprocessed the MNIST data in class.\n",
    "- Make sure to one-hot encode your category labels\n",
    "- The number of nodes in your output layer should equal the number of classes you want to predict for Fashion-MNIST.\n",
    "- Try different hyperparameters. What is the highest accuracy that you are able to achieve.\n",
    "- Use the history object that is returned from model.fit to make graphs of the model's loss or train/validation accuracies by epoch. \n",
    "- Remember that neural networks fall prey to randomness so you may need to run your model multiple times (or use Cross Validation) in order to tell if a change to a hyperparameter is truly producing better results."
   ]
  },
  {
   "cell_type": "code",
   "execution_count": null,
   "metadata": {
    "colab": {},
    "colab_type": "code",
    "id": "szi6-IpuzaH1"
   },
   "outputs": [],
   "source": [
    "##### Your Code Here #####\n",
    "# from a previous assignment. \n",
    "\n",
    "# fashion mnist dataset is a 28x28 array of greyscale images. \n",
    "# the image labels are numbers. we use numbers as labels to avoid bias. \n",
    "# avoiding bias in machine learning: https://developers.google.com/machine-learning/fairness-overview/\n",
    "# clothing data set has 10 categories/10 classes. \n",
    "%%capture\n",
    "\n",
    "fashion_mnist = keras.datasets.fashion_mnist\n",
    "(train_images, train_labels), (test_images, test_labels) = fashion_mnist.load_data()\n"
   ]
  },
  {
   "cell_type": "code",
   "execution_count": null,
   "metadata": {},
   "outputs": [],
   "source": [
    "plt.imshow(train_images[42])"
   ]
  },
  {
   "cell_type": "code",
   "execution_count": null,
   "metadata": {},
   "outputs": [],
   "source": [
    "print(train_labels[0])\n",
    "\n",
    "# The data for a particular image is a grid of values from\n",
    "# zero to 255 with pixel Grayscale values.\n",
    "\n",
    "print(train_images[0])"
   ]
  },
  {
   "cell_type": "code",
   "execution_count": null,
   "metadata": {},
   "outputs": [],
   "source": [
    "train_images = train_images/255.0\n",
    "test_images = test_images/255.0"
   ]
  },
  {
   "cell_type": "code",
   "execution_count": null,
   "metadata": {},
   "outputs": [],
   "source": [
    "# Sequential with 3 layers instead of 1 layer like previous lesson. \n",
    "# Flatten takes the 28 X 28 square and turn it into a simple linear array\n",
    "# hidden layer takes the 784 values of an angle boot and turn it into the value 9\n",
    "# see hiden layer image https://drive.google.com/file/d/1pUiscWVrUs9UHHn8nnGVpk1ZSNbcQXT9/view?usp=sharing\n",
    "model = keras.Sequential([\n",
    "    keras.layers.Flatten(input_shape=(28, 28)), # shape we should expect the data to be in. \n",
    "    keras.layers.Dense(128, activation=tf.nn.relu), # hidden layer. # 128 neurons. # variables in a function, x1, x2, x3, e.t.c\n",
    "    keras.layers.Dense(10, activation=tf.nn.softmax) #10 neurons because of 10 classes of clothin in the dataset.\n",
    "])\n",
    "\n",
    "# input layer in the shape of the data\n",
    "# output layer in the shape of the classes\n",
    "# and a hidden layer to define the relationship between input and output layer. "
   ]
  },
  {
   "cell_type": "code",
   "execution_count": null,
   "metadata": {},
   "outputs": [],
   "source": [
    "model.compile(optimizer = tf.train.AdamOptimizer(),\n",
    "             loss = 'sparse_categorical_crossentropy',\n",
    "             metrics = ['accuracy'])\n",
    "\n",
    "model.fit(train_images, train_labels, epochs=5)"
   ]
  },
  {
   "cell_type": "code",
   "execution_count": null,
   "metadata": {},
   "outputs": [],
   "source": [
    "model.evaluate(test_images, test_labels)"
   ]
  },
  {
   "cell_type": "code",
   "execution_count": null,
   "metadata": {},
   "outputs": [],
   "source": [
    "classifications = model.predict(test_images)\n",
    "print(classifications[11])"
   ]
  },
  {
   "cell_type": "code",
   "execution_count": null,
   "metadata": {},
   "outputs": [],
   "source": [
    "print(test_labels[11])"
   ]
  },
  {
   "cell_type": "markdown",
   "metadata": {},
   "source": [
    "### Fashion Mnist Dataset model in a single code cell\n"
   ]
  },
  {
   "cell_type": "code",
   "execution_count": null,
   "metadata": {},
   "outputs": [],
   "source": [
    "import tensorflow as tf\n",
    "from tensorflow import keras\n",
    "\n",
    "# getting the dataset\n",
    "mnist = tf.keras.datasets.mnist\n",
    "\n",
    "# loading the dataset into different variables\n",
    "(training_images, training_labels), (testing_images, testing_labels) = mnist.load_data()\n",
    "\n",
    "# standardizing the dataset to have 0's and 1's\n",
    "# training and testing images has numbers between 0 and 255\n",
    "training_images = training_images/255.0\n",
    "testing_images = testing_images/255.0\n",
    "\n",
    "# designing the model\n",
    "model = tf.keras.models.Sequential([tf.keras.layers.Flatten(),\n",
    "                            tf.keras.layers.Dense(1024, activation=tf.nn.relu),\n",
    "                            tf.keras.layers.Dense(10, activation=tf.nn.softmax)])\n",
    "\n",
    "# building the model\n",
    "model.compile(optimizer='adam', loss = 'sparse_categorical_crossentropy', \n",
    "             metrics=['accuracy'])\n",
    "\n",
    "# fitting the training data to the training labels\n",
    "model.fit(training_images, training_labels, epochs = 5)\n",
    "\n",
    "# evaluating the accuracy of the model using testing data to see how well our\n",
    "# system was trained. \n",
    "model.evaluate(testing_images, testing_labels)\n",
    "\n",
    "# creating a classification for each of the test images. \n",
    "# The classification let's us know the probability of \n",
    "# which label the test image belongs to. is it a shoe, shirt, \n",
    "# but in this case, the classification is not shoe, shirt, e.t.c\n",
    "# but rather it is a number. \n",
    "# We are testing to see if our model can \n",
    "# classify the images into the appropriate categories/labels\n",
    "\n",
    "classifications = model.predict(testing_images)\n",
    "\n",
    "print(classifications[0])\n",
    "print(testing_labels[0])\n",
    "\n"
   ]
  },
  {
   "cell_type": "markdown",
   "metadata": {},
   "source": [
    "### Fashion Mnist model code but with callback function. "
   ]
  },
  {
   "cell_type": "code",
   "execution_count": null,
   "metadata": {},
   "outputs": [],
   "source": [
    "# here we specify \"LOSS\" in callbac function\n",
    "\n",
    "class myCallback(tf.keras.callbacks.Callback):\n",
    "  def on_epoch_end(self, epoch, logs={}):\n",
    "    if(logs.get('loss')<0.3):\n",
    "      print(\"\\nLoss is low so cancelling training!\")\n",
    "      self.model.stop_training = True\n",
    "      \n",
    "callbacks = myCallback()\n",
    "\n",
    "mnist = tf.keras.datasets.fashion_mnist\n",
    "(training_images, training_labels), (testing_images, testing_labels) = mnist.load_data()\n",
    "\n",
    "training_images = training_images/255.0\n",
    "testing_images = testing_images/255.0\n",
    "\n",
    "model = tf.keras.models.Sequential([tf.keras.layers.Flatten(),\n",
    "                                  tf.keras.layers.Dense(512, activation = tf.nn.relu),\n",
    "                                  tf.keras.layers.Dense(10, activation = tf.nn.softmax)])\n",
    "\n",
    "model.compile(optimizer='adam', loss='sparse_categorical_crossentropy',\n",
    "              metrics = ['accuracy'])\n",
    "\n",
    "model.fit(training_images, training_labels, epochs=5, callbacks=[callbacks])\n",
    "\n",
    "#model.predict(testing_images, testing_labels)\n"
   ]
  },
  {
   "cell_type": "code",
   "execution_count": null,
   "metadata": {},
   "outputs": [],
   "source": [
    "#here we specify accuracy in call back function\n",
    "\n",
    "class myCallback(tf.keras.callbacks.Callback):\n",
    "  def on_epoch_end(self, epoch, logs={}):\n",
    "    if(logs.get('acc')>0.89): #this is the difference from the code above\n",
    "      print(\"\\nReached 89% accuracy so cancelling training!\")\n",
    "      self.model.stop_training = True\n",
    "      \n",
    "callbacks = myCallback()\n",
    "\n",
    "mnist = tf.keras.datasets.fashion_mnist\n",
    "(training_images, training_labels), (testing_images, testing_labels) = mnist.load_data()\n",
    "\n",
    "training_images = training_images/255.0\n",
    "testing_images = testing_images/255.0\n",
    "\n",
    "model = tf.keras.models.Sequential([tf.keras.layers.Flatten(),\n",
    "                                  tf.keras.layers.Dense(1024, activation = tf.nn.relu),\n",
    "                                  tf.keras.layers.Dense(10, activation = tf.nn.softmax)])\n",
    "\n",
    "model.compile(optimizer='adam', loss='sparse_categorical_crossentropy',\n",
    "              metrics = ['accuracy'])\n",
    "\n",
    "model.fit(training_images, training_labels, epochs=10, callbacks=[callbacks])\n",
    "\n",
    "#model.predict(testing_images, testing_labels)\n"
   ]
  },
  {
   "cell_type": "markdown",
   "metadata": {
    "colab_type": "text",
    "id": "zv_3xNMjzdLI"
   },
   "source": [
    "## Stretch Goals:\n",
    "\n",
    "- Use Hyperparameter Tuning to make the accuracy of your models as high as possible. (error as low as possible)\n",
    "- Use Cross Validation techniques to get more consistent results with your model.\n",
    "- Use GridSearchCV to try different combinations of hyperparameters. \n",
    "- Start looking into other types of Keras layers for CNNs and RNNs maybe try and build a CNN model for fashion-MNIST to see how the results compare."
   ]
  }
 ],
 "metadata": {
  "colab": {
   "name": "LS_DS_433_Keras_Assignment.ipynb",
   "provenance": [],
   "version": "0.3.2"
  },
  "kernelspec": {
   "display_name": "Neural-Network-Foundations",
   "language": "python",
   "name": "neural-network-foundations"
  },
  "language_info": {
   "codemirror_mode": {
    "name": "ipython",
    "version": 3
   },
   "file_extension": ".py",
   "mimetype": "text/x-python",
   "name": "python",
   "nbconvert_exporter": "python",
   "pygments_lexer": "ipython3",
   "version": "3.7.0"
  }
 },
 "nbformat": 4,
 "nbformat_minor": 4
}
